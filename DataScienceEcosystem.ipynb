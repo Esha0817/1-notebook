{
 "cells": [
  {
   "cell_type": "markdown",
   "id": "92049df9-8441-42fc-892b-b498100857a9",
   "metadata": {},
   "source": [
    "# Data Science Tools and Ecosystem\n"
   ]
  },
  {
   "cell_type": "markdown",
   "id": "d30c3150-1fb3-41ba-ba0e-d4bc4a8ce16d",
   "metadata": {},
   "source": [
    "In this notebook, Data Science Tools and Ecosystem are summarized."
   ]
  },
  {
   "cell_type": "markdown",
   "id": "8d296c6a-fb0f-48dc-a169-a4e200d6235c",
   "metadata": {},
   "source": [
    "**Objectives:**\n",
    "- The popular languages for Data Science are:\n",
    "    - Python \n",
    "    - Julia\n",
    "    - R\n",
    "    - SQL\n",
    "    - Scala\n",
    "    - Java\n"
   ]
  },
  {
   "cell_type": "markdown",
   "id": "8140cd46-07c7-4153-a1e9-d0a403cfe8ee",
   "metadata": {},
   "source": [
    "Some of the popular languages that Data Scientists use are:\n",
    "\n",
    "1. Python \n",
    "2. R\n",
    "3. Julia\n",
    "4. SQL\n",
    "5. Java\n",
    "6. Scala"
   ]
  },
  {
   "cell_type": "markdown",
   "id": "9378559e-0f81-411a-b99e-59d4ec0e9b94",
   "metadata": {},
   "source": [
    "Some of the commonly used libraries used by Data Scientists include:\n",
    "\n",
    "1. Numpy\n",
    "2. TensorFlow\n",
    "3. Matplotlib \n",
    "4. Pandas\n",
    "5. SciPy\n"
   ]
  },
  {
   "cell_type": "markdown",
   "id": "87082929-e526-43c2-aac6-b31703c124f3",
   "metadata": {},
   "source": [
    "|Data Science Tools|\n",
    "|------------------|\n",
    "|RStudio|\n",
    "|Apache Spark|\n",
    "|RapidMiner|\n",
    "|TensorFlow|\n"
   ]
  },
  {
   "cell_type": "markdown",
   "id": "ea3c2d3a-e5ac-476d-b396-314acd9f9f26",
   "metadata": {},
   "source": [
    "### Below are a few examples of evaluating arithmetic expressions in Python\n"
   ]
  },
  {
   "cell_type": "code",
   "execution_count": 2,
   "id": "bd841520-ca95-4fd6-abbe-c75260dcde8a",
   "metadata": {},
   "outputs": [
    {
     "data": {
      "text/plain": [
       "17"
      ]
     },
     "execution_count": 2,
     "metadata": {},
     "output_type": "execute_result"
    }
   ],
   "source": [
    "#This a simple arithmetic expression to mutiply then add integers.\n",
    "(3*4)+5"
   ]
  },
  {
   "cell_type": "code",
   "execution_count": 3,
   "id": "3fc924ee-69c1-44f7-9237-892664dc4c6f",
   "metadata": {},
   "outputs": [
    {
     "data": {
      "text/plain": [
       "3.3333333333333335"
      ]
     },
     "execution_count": 3,
     "metadata": {},
     "output_type": "execute_result"
    }
   ],
   "source": [
    "#This will convert 200 minutes to hours by diving by 60\n",
    "(200/60)"
   ]
  },
  {
   "cell_type": "markdown",
   "id": "949ceb23-f4c9-4394-adf4-ac49447451e4",
   "metadata": {},
   "source": [
    "## Author\n",
    "Esha Tewari "
   ]
  },
  {
   "cell_type": "code",
   "execution_count": null,
   "id": "ef4a78be-5b70-4535-968e-9f5c10e40b6f",
   "metadata": {},
   "outputs": [],
   "source": []
  }
 ],
 "metadata": {
  "kernelspec": {
   "display_name": "anaconda-panel-2023.05-py310",
   "language": "python",
   "name": "conda-env-anaconda-panel-2023.05-py310-py"
  },
  "language_info": {
   "codemirror_mode": {
    "name": "ipython",
    "version": 3
   },
   "file_extension": ".py",
   "mimetype": "text/x-python",
   "name": "python",
   "nbconvert_exporter": "python",
   "pygments_lexer": "ipython3",
   "version": "3.11.4"
  }
 },
 "nbformat": 4,
 "nbformat_minor": 5
}
